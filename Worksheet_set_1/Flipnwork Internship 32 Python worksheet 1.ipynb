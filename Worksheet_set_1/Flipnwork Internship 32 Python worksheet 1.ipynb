{
 "cells": [
  {
   "cell_type": "markdown",
   "id": "e73c30bb",
   "metadata": {},
   "source": [
    "Python-Worksheet 1"
   ]
  },
  {
   "cell_type": "code",
   "execution_count": 5,
   "id": "7159baaf",
   "metadata": {},
   "outputs": [
    {
     "name": "stdout",
     "output_type": "stream",
     "text": [
      "enter a number 13\n",
      "factorial of 13 = 6227020800\n"
     ]
    }
   ],
   "source": [
    "# Q.11\n",
    "\n",
    "# input from user\n",
    "\n",
    "num=int(input('enter a number '))\n",
    "f=1\n",
    "for i in range(1,num+1):\n",
    "    f=f*i\n",
    "print('factorial of',num, '=', f)\n"
   ]
  },
  {
   "cell_type": "code",
   "execution_count": 17,
   "id": "a2fcf50e",
   "metadata": {},
   "outputs": [
    {
     "name": "stdout",
     "output_type": "stream",
     "text": [
      "enter the number :3\n",
      "3 => prime number\n"
     ]
    }
   ],
   "source": [
    "# Q. 12\n",
    "# input from user\n",
    "\n",
    "number=int(input('enter the number :'))\n",
    "if number == 0 or number == 1:\n",
    "    print(number , \"=> Neither prime nor composite\")\n",
    "else:\n",
    "    for i in range(2, number):\n",
    "        if(number % i == 0):\n",
    "            print(number, \"=> composite number\")\n",
    "            \n",
    "    else:\n",
    "        print(number, \"=> prime number\")\n",
    "\n"
   ]
  },
  {
   "cell_type": "code",
   "execution_count": 3,
   "id": "ad07a84d",
   "metadata": {},
   "outputs": [
    {
     "name": "stdout",
     "output_type": "stream",
     "text": [
      "The string is a palindrome.\n"
     ]
    }
   ],
   "source": [
    "# Q. 13\n",
    "\n",
    "my_str ='deed'\n",
    "\n",
    "my_str = my_str.casefold()\n",
    "\n",
    "rev_str = reversed(my_str)\n",
    "\n",
    "if list(my_str) == list(rev_str):\n",
    "    print(\"The string is a palindrome.\")\n",
    "else:\n",
    "    print(\"The string is not a palindrome. \")"
   ]
  },
  {
   "cell_type": "code",
   "execution_count": 33,
   "id": "2eedc38b",
   "metadata": {},
   "outputs": [
    {
     "name": "stdout",
     "output_type": "stream",
     "text": [
      "Enter base: 10.5\n",
      "Enter height: 5.5\n",
      "Enter angle: 60\n",
      "Hypotenuse=  11.853269591129697\n"
     ]
    }
   ],
   "source": [
    "# Q. 14\n",
    "\n",
    "import math\n",
    "\n",
    "a= float(input(\"Enter base: \"))\n",
    "b= float(input(\"Enter height: \"))\n",
    "x= float(input(\"Enter angle: \"))\n",
    "\n",
    "c= math.sqrt(a ** 2 + b ** 2)\n",
    "print(\"Hypotenuse= \" , c)\n"
   ]
  },
  {
   "cell_type": "code",
   "execution_count": 34,
   "id": "bc13e6d9",
   "metadata": {},
   "outputs": [
    {
     "name": "stdout",
     "output_type": "stream",
     "text": [
      "Counter({' ': 6, 's': 4, 'o': 3, 'v': 3, 'e': 3, 'a': 3, 't': 2, 'i': 2, 'I': 1, 'l': 1, 'L': 1, 'g': 1, 'm': 1, 'd': 1, 'y': 1})\n"
     ]
    }
   ],
   "source": [
    "# Q. 15\n",
    "\n",
    "from collections import Counter\n",
    "string= \"I love to visit Las vegas someday\"\n",
    "\n",
    "output = Counter(string)\n",
    "print(output)"
   ]
  },
  {
   "cell_type": "code",
   "execution_count": null,
   "id": "a1289a58",
   "metadata": {},
   "outputs": [],
   "source": []
  }
 ],
 "metadata": {
  "kernelspec": {
   "display_name": "Python 3 (ipykernel)",
   "language": "python",
   "name": "python3"
  },
  "language_info": {
   "codemirror_mode": {
    "name": "ipython",
    "version": 3
   },
   "file_extension": ".py",
   "mimetype": "text/x-python",
   "name": "python",
   "nbconvert_exporter": "python",
   "pygments_lexer": "ipython3",
   "version": "3.9.7"
  }
 },
 "nbformat": 4,
 "nbformat_minor": 5
}
